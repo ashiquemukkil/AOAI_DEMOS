{
 "cells": [
  {
   "cell_type": "code",
   "execution_count": 1,
   "id": "e9dd8d33",
   "metadata": {},
   "outputs": [],
   "source": [
    "import os\n",
    "from semantic_kernel.kernel import Kernel\n",
    "from semantic_kernel.connectors.ai.open_ai import AzureChatCompletion\n"
   ]
  },
  {
   "cell_type": "code",
   "execution_count": null,
   "id": "8bb3ff7c",
   "metadata": {},
   "outputs": [],
   "source": [
    "from typing import Optional, TypedDict, List, Annotated\n",
    "from semantic_kernel.functions import kernel_function\n",
    "from semantic_kernel.kernel import Kernel\n",
    "from semantic_kernel.connectors.ai.open_ai import AzureChatCompletion\n",
    "\n",
    "from config import *\n",
    "kernel = Kernel()\n",
    "\n",
    "chat_completion = AzureChatCompletion()\n",
    "\n",
    "class LightModel(TypedDict):\n",
    "    id: str\n",
    "    name: str\n",
    "    is_on: bool | None\n",
    "    brightness: int | None\n",
    "    hex: str | None\n",
    "\n",
    "class LightsPlugin:\n",
    "    def __init__(self, lights: List[LightModel]):\n",
    "        self.lights = lights\n",
    "    \n",
    "    @kernel_function\n",
    "    def get_lights(self) -> List[LightModel]:\n",
    "        return self.lights\n",
    "    \n",
    "    @kernel_function\n",
    "    def get_stats(self, id: Annotated[int, \"The ID of Light\"]\n",
    "                  ) -> Optional[LightModel]:\n",
    "        \"\"\"Get the stats of a light by its ID.\"\"\"\n",
    "        for light in self.lights:\n",
    "            if light['id'] == id:\n",
    "                return light\n",
    "        return None\n",
    "    \n",
    "    @kernel_function\n",
    "    def change_state(self, id : Annotated[int, \"The ID of light\"],\n",
    "                     new_state:LightModel\n",
    "                     ) -> Optional[LightModel]:\n",
    "        \"\"\"Change the state of a light by its ID.\"\"\"\n",
    "        for light in self.lights:\n",
    "            if light['id'] == id:\n",
    "                light[\"is_on\"] = new_state.get(\"is_on\", light[\"is_on\"])\n",
    "                light[\"brightness\"] = new_state.get(\"brightness\", light[\"brightness\"])\n",
    "                light[\"hex\"] = new_state.get(\"hex\", light[\"hex\"])\n",
    "                return light\n",
    "        return None\n",
    "    "
   ]
  },
  {
   "cell_type": "code",
   "execution_count": null,
   "id": "c3c81d21",
   "metadata": {},
   "outputs": [],
   "source": [
    "lights = [\n",
    "    {\"id\": 1, \"name\": \"Table Lamp\", \"is_on\": False, \"brightness\": 100, \"hex\": \"FF0000\"},\n",
    "    {\"id\": 2, \"name\": \"Porch light\", \"is_on\": False, \"brightness\": 50, \"hex\": \"00FF00\"},\n",
    "    {\"id\": 3, \"name\": \"Chandelier\", \"is_on\": True, \"brightness\": 75, \"hex\": \"0000FF\"},\n",
    "]\n",
    "\n",
    "plugin = LightsPlugin(lights)\n",
    "kernel.register_plugin(plugin)"
   ]
  },
  {
   "cell_type": "code",
   "execution_count": null,
   "id": "175caec2",
   "metadata": {},
   "outputs": [],
   "source": [
    "from semantic_kernel.connectors.ai.function_choice_behavior import FunctionChoiceBehavior\n",
    "from semantic_kernel.contents.chat_history import ChatHistory\n",
    "from semantic_kernel.connectors.ai.open_ai.prompt_execution_settings.azure_chat_prompt_execution_settings import AzureChatPromptExecutionSettings   \n",
    "\n",
    "execution_settings = AzureChatPromptExecutionSettings()\n",
    "execution_settings.function_choice_behavior = FunctionChoiceBehavior.Auto()\n",
    "\n",
    "history = ChatHistory()\n",
    "history.add_user_message(\"please turn on the lamp\")\n",
    "\n",
    "result = await chat_completion.get_chat_message_content(\n",
    "    chat_history=history,\n",
    "    settings=execution_settings,\n",
    "    kernel=kernel,\n",
    ")\n",
    "\n",
    "print(\"Assistant response:\", str(result))"
   ]
  }
 ],
 "metadata": {
  "kernelspec": {
   "display_name": ".venv",
   "language": "python",
   "name": "python3"
  },
  "language_info": {
   "codemirror_mode": {
    "name": "ipython",
    "version": 3
   },
   "file_extension": ".py",
   "mimetype": "text/x-python",
   "name": "python",
   "nbconvert_exporter": "python",
   "pygments_lexer": "ipython3",
   "version": "3.12.10"
  }
 },
 "nbformat": 4,
 "nbformat_minor": 5
}
