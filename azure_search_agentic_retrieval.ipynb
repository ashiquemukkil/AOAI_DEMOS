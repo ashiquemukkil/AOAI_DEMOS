{
 "cells": [
  {
   "cell_type": "code",
   "execution_count": null,
   "metadata": {},
   "outputs": [],
   "source": [
    "%pip install azure-search-documents==11.6.0b12"
   ]
  },
  {
   "cell_type": "markdown",
   "metadata": {},
   "source": [
    "### REFERENCE \n",
    "https://techcommunity.microsoft.com/blog/azure-ai-services-blog/introducing-agentic-retrieval-in-azure-ai-search/4414677"
   ]
  },
  {
   "cell_type": "code",
   "execution_count": 13,
   "metadata": {},
   "outputs": [],
   "source": [
    "import os\n",
    "from azure.search.documents import SearchClient\n",
    "from azure.core.credentials import AzureKeyCredential\n",
    "from azure.search.documents.indexes import SearchIndexClient\n",
    "from azure.search.documents.indexes.models import SearchField,SearchFieldDataType,SimpleField,SearchableField"
   ]
  },
  {
   "cell_type": "code",
   "execution_count": 9,
   "metadata": {},
   "outputs": [],
   "source": [
    "# Load environment variables\n",
    "\n",
    "AZURE_SEARCH_ENDPOINT = os.getenv(\"AZURE_SEARCH_ENDPOINT\")  # e.g. https://<your-search>.search.windows.net\n",
    "AZURE_SEARCH_KEY = os.getenv(\"AZURE_SEARCH_KEY\")\n",
    "AZURE_SEARCH_INDEX_NAME = os.getenv(\"AZURE_SEARCH_INDEX_NAME\")  # Your index name\n",
    "OPENAI_API_KEY = os.getenv(\"OPENAI_API_KEY\")\n",
    "OPENAI_EMBEDDING_MODEL = \"text-embedding-3-small\"\n",
    "EMBEDDING_DIM = 1536  # dimension for OpenAI 'text-embedding-3-small'\n",
    "\n",
    "AOAI_ENDPOINT = ''\n",
    "AOAI_EMB_MODEL = ''\n",
    "AOAI_EMB_DEPLOYMENT = ''\n",
    "AOAI_GPT_MODEL = ''\n",
    "AOAI_GPT_DEPLOYMENT = ''"
   ]
  },
  {
   "cell_type": "code",
   "execution_count": 10,
   "metadata": {},
   "outputs": [],
   "source": [
    "# Define fields for the index\n",
    "fields = [\n",
    "    SimpleField(name=\"id\", type=SearchFieldDataType.String, key=True),\n",
    "    SimpleField(name=\"page\", type=SearchFieldDataType.Int32, filterable=True, sortable=True),\n",
    "    SearchableField(name=\"content\", type=SearchFieldDataType.String, analyzer_name=\"en.microsoft\"),\n",
    "    SearchField(name=\"contentVector\", type=SearchFieldDataType.Collection(SearchFieldDataType.Single),\n",
    "                hidden=False, searchable=True, vector_search_dimensions=EMBEDDING_DIM,\n",
    "                vector_search_profile_name=\"default-vs\")\n",
    "]"
   ]
  },
  {
   "cell_type": "code",
   "execution_count": null,
   "metadata": {},
   "outputs": [],
   "source": [
    "# Define vector search profile\n",
    "from azure.search.documents.indexes.models import SearchIndex, SearchField, VectorSearch, VectorSearchProfile, HnswAlgorithmConfiguration, AzureOpenAIVectorizer, AzureOpenAIVectorizerParameters, SemanticSearch, SemanticConfiguration, SemanticPrioritizedFields, SemanticField\n",
    "\n",
    "vector_search=VectorSearch(\n",
    "    profiles=[VectorSearchProfile(name=\"hnsw_text_3_large\", algorithm_configuration_name=\"alg\", vectorizer_name=\"azure_openai_text_3_large\")],\n",
    "    algorithms=[HnswAlgorithmConfiguration(name=\"alg\")],\n",
    "    vectorizers=[\n",
    "        AzureOpenAIVectorizer(\n",
    "            vectorizer_name=\"azure_openai_text_3_large\",\n",
    "            parameters=AzureOpenAIVectorizerParameters(\n",
    "                resource_url=AOAI_ENDPOINT,\n",
    "                deployment_name=AOAI_EMB_DEPLOYMENT,\n",
    "                model_name=AOAI_EMB_MODEL,\n",
    "            )\n",
    "        )\n",
    "    ]\n",
    ")\n"
   ]
  },
  {
   "cell_type": "code",
   "execution_count": null,
   "metadata": {},
   "outputs": [],
   "source": [
    "semantic_search=SemanticSearch(\n",
    "    default_configuration_name=\"semantic_config\",\n",
    "    configurations=[\n",
    "        SemanticConfiguration(\n",
    "            name=\"semantic_config\",\n",
    "            prioritized_fields=SemanticPrioritizedFields(\n",
    "                content_fields=[\n",
    "                    SemanticField(field_name=\"text\")\n",
    "                ]\n",
    "            )\n",
    "        )\n",
    "    ]\n",
    ")"
   ]
  },
  {
   "cell_type": "code",
   "execution_count": null,
   "metadata": {},
   "outputs": [],
   "source": [
    "# Init Azure Search client\n",
    "credential = AzureKeyCredential(AZURE_SEARCH_KEY)\n",
    "index_client = SearchIndexClient(endpoint=AZURE_SEARCH_ENDPOINT, credential=credential)\n",
    "\n",
    "# Create index\n",
    "index = SearchIndex(\n",
    "    name=AZURE_SEARCH_INDEX_NAME,\n",
    "    fields=fields,\n",
    "    vector_search=vector_search,\n",
    "    semantic_search=semantic_search\n",
    ")\n",
    "\n",
    "index_client.create_index(index)\n",
    "\n",
    "print(f\"Index '{AZURE_SEARCH_INDEX_NAME}' created.\")\n",
    "\n",
    "search_client = SearchClient(endpoint=AZURE_SEARCH_ENDPOINT, index_name=AZURE_SEARCH_INDEX_NAME, credential=credential)"
   ]
  },
  {
   "cell_type": "code",
   "execution_count": null,
   "metadata": {},
   "outputs": [],
   "source": [
    "# Ingest documents"
   ]
  },
  {
   "cell_type": "code",
   "execution_count": null,
   "metadata": {},
   "outputs": [],
   "source": [
    "# Create a agent in azure search \n",
    "from azure.search.documents.indexes.models import AzureOpenAIVectorizerParameters, KnowledgeAgent, KnowledgeAgentAzureOpenAIModel, KnowledgeAgentTargetIndex\n",
    "\n",
    "agent_name = ''\n",
    "agent = KnowledgeAgent(\n",
    "    name=agent_name,\n",
    "    models=[\n",
    "        KnowledgeAgentAzureOpenAIModel(\n",
    "            azure_open_ai_parameters=AzureOpenAIVectorizerParameters(\n",
    "                resource_url=AOAI_ENDPOINT,\n",
    "                deployment_name=AOAI_GPT_DEPLOYMENT,\n",
    "                model_name=AOAI_GPT_MODEL)\n",
    "        )\n",
    "    ],\n",
    "    target_indexes=[\n",
    "        KnowledgeAgentTargetIndex(\n",
    "            index_name=AZURE_SEARCH_INDEX_NAME,\n",
    "            default_reranker_threshold=2.5,\n",
    "            default_include_reference_source_data = True,\n",
    "        )\n",
    "    ],\n",
    ")\n",
    "\n",
    "index_client.create_or_update_agent(agent)\n",
    "print(f\"Knowledge agent -  '{agent_name}' created or updated successfully\")"
   ]
  },
  {
   "cell_type": "code",
   "execution_count": null,
   "metadata": {},
   "outputs": [],
   "source": [
    "from azure.search.documents.agent import KnowledgeAgentRetrievalClient\n",
    "agent_client = KnowledgeAgentRetrievalClient(endpoint=AZURE_SEARCH_ENDPOINT,\n",
    "                    agent_name=agent_name,\n",
    "                    credential=credential\n",
    ")"
   ]
  },
  {
   "cell_type": "code",
   "execution_count": null,
   "metadata": {},
   "outputs": [],
   "source": [
    "QUESTION = \"user question\"\n",
    "\n",
    "instructions = \"\"\"\n",
    "You are a Q&A legal agent capable of answering questions related to a legal document.\n",
    "The sources are provided in JSON format and include a \"doc_key\" reference that must be cited in the responses. \n",
    "If the answer is not available, the agent should reply with \"I DO NOT KNOW\".\n",
    "\"\"\"\n",
    "\n",
    "messages = [{\"role\": \"system\", \"content\": instructions},{ \"role\": \"user\", \"content\": QUESTION}]\n"
   ]
  },
  {
   "cell_type": "code",
   "execution_count": null,
   "metadata": {},
   "outputs": [],
   "source": [
    "from azure.search.documents.agent.models import KnowledgeAgentRetrievalRequest, KnowledgeAgentMessage, KnowledgeAgentMessageTextContent, KnowledgeAgentIndexParams\n",
    "\n",
    "retrieval_result = agent_client.retrieve(\n",
    "    retrieval_request=KnowledgeAgentRetrievalRequest(\n",
    "        messages=[\n",
    "            KnowledgeAgentMessage(role=msg[\"role\"],\n",
    "                                  content=[\n",
    "                                      KnowledgeAgentMessageTextContent(\n",
    "                                          text=msg[\"content\"])\n",
    "                                  ]) for msg in messages\n",
    "            if msg[\"role\"] != \"system\"\n",
    "        ],\n",
    "        target_index_params=[\n",
    "            KnowledgeAgentIndexParams(index_name=AZURE_SEARCH_INDEX_NAME,\n",
    "                                      reranker_threshold=2.5)\n",
    "]))\n",
    "retrieval_result"
   ]
  }
 ],
 "metadata": {
  "kernelspec": {
   "display_name": ".venv",
   "language": "python",
   "name": "python3"
  },
  "language_info": {
   "codemirror_mode": {
    "name": "ipython",
    "version": 3
   },
   "file_extension": ".py",
   "mimetype": "text/x-python",
   "name": "python",
   "nbconvert_exporter": "python",
   "pygments_lexer": "ipython3",
   "version": "3.11.13"
  }
 },
 "nbformat": 4,
 "nbformat_minor": 2
}
